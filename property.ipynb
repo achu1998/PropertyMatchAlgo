{
 "cells": [
  {
   "cell_type": "code",
   "execution_count": 1,
   "metadata": {},
   "outputs": [],
   "source": [
    "import mysql.connector"
   ]
  },
  {
   "cell_type": "code",
   "execution_count": 2,
   "metadata": {},
   "outputs": [
    {
     "name": "stdout",
     "output_type": "stream",
     "text": [
      "Database object: \n",
      "<mysql.connector.connection.MySQLConnection object at 0x05996CA0>\n",
      "\n",
      "\n"
     ]
    }
   ],
   "source": [
    "#Getting connection to DB\n",
    "\n",
    "mydb = mysql.connector.connect(\n",
    "    host=\"localhost\", user=\"root\", passwd=\"\", database=\"property\")\n",
    "\n",
    "print(\"Database object: \")\n",
    "print(mydb)\n",
    "print(\"\\n\")\n",
    "ans = set()"
   ]
  },
  {
   "cell_type": "code",
   "execution_count": 3,
   "metadata": {},
   "outputs": [
    {
     "name": "stdout",
     "output_type": "stream",
     "text": [
      "Enter id: 1\n",
      "Enter latitude: 54\n",
      "Enter Longitude: 20\n",
      "Enter Minimum price: 1000\n",
      "Enter Maximum price: 3000\n",
      "Enter Minimum bed: 1\n",
      "Enter Maximum bed: 12\n",
      "Enter Minimum bath: 12\n",
      "Enter Maximum bath: 14\n"
     ]
    }
   ],
   "source": [
    "#Getting input and checking for valid inputs. If input is not valid, get input again\n",
    "#inputs - id, latitude,longitude, minimum price, maximum price, minimum no. of bed\n",
    "#maximum no. of bed, minimum no. of bath,maximum no. of bath\n",
    "#either min or max value should be present \n",
    "\n",
    "iden = input(\"Enter id: \")\n",
    "\n",
    "while not iden:\n",
    "    print(\"Invalid input, Enter again!\")\n",
    "    iden = input(\"Enter id: \")\n",
    "     \n",
    "latitude = input(\"Enter latitude: \")\n",
    "\n",
    "while not latitude:\n",
    "    print(\"Invalid input, Enter again!\")\n",
    "    lat = input(\"Enter latitude: \")\n",
    "\n",
    "longitude = input(\"Enter Longitude: \")\n",
    "\n",
    "while not longitude:\n",
    "    print(\"Invalid input, Enter again!\")\n",
    "    lon = input(\"Enter Longitude: \")\n",
    "  \n",
    "\n",
    "minprice = input(\"Enter Minimum price: \")\n",
    "maxprice = input(\"Enter Maximum price: \")\n",
    "\n",
    "while maxprice <= minprice or (not maxprice and not minprice):\n",
    "    print(\"Invalid input, Enter again!\")\n",
    "    minprice = input(\"Enter Minimum price: \")\n",
    "    maxprice = input(\"Enter Maximum price: \")\n",
    "      \n",
    "minbed = input(\"Enter Minimum bed: \")\n",
    "maxbed = input(\"Enter Maximum bed: \")\n",
    "\n",
    "while maxbed <= minbed or (not minbed and not maxbed):\n",
    "    print(\"Invalid input, Enter again!\")\n",
    "    minbed = input(\"Enter Minimum bed: \")\n",
    "    maxbed = input(\"Enter Maximum bed: \")\n",
    "       \n",
    "minbath = input(\"Enter Minimum bath: \")\n",
    "maxbath = input(\"Enter Maximum bath: \")\n",
    "\n",
    "while maxbath <= minbath or (not minbath and not maxbath):\n",
    "    print(\"Invalid input, Enter again!\")\n",
    "    minbath = input(\"Enter Minimum bath: \")\n",
    "    maxbath = input(\"Enter Maximum bath: \")\n"
   ]
  },
  {
   "cell_type": "code",
   "execution_count": 4,
   "metadata": {},
   "outputs": [],
   "source": [
    "#For property and requirement to be considered a valid match, distance should be within 10 miles, \n",
    "#the budget is +/- 25%, bedroom and bathroom should be +/- 2.\n",
    "#Getting all the properties which matches the condition budget +/- 25% and adding to set\n",
    "\n",
    "cursor = mydb.cursor()\n",
    "if minprice and maxprice:\n",
    "    cursor.execute(\n",
    "        \"select id,lat,lon,price,bed,bath from props where price >= \" +\n",
    "        minprice + \" and price <= \" + maxprice + \";\")\n",
    "else:\n",
    "    if not minprice:\n",
    "        budget = int(int(maxprice) * 25 / 100)\n",
    "        cursor.execute(\n",
    "            \"select id,lat,lon,price,bed,bath from props where price >= \" +\n",
    "            str(int(maxprice) - budget) + \" and price <= \" +\n",
    "            str(int(maxprice) + budget) + \";\")\n",
    "    else:\n",
    "        budget = int(int(minprice) * 25 / 100)\n",
    "        cursor.execute(\n",
    "            \"select id,lat,lon,price,bed,bath from props where price >= \" +\n",
    "            str(int(minprice) - budget) + \" and price <= \" +\n",
    "            str(int(minprice) + budget) + \";\")\n",
    "price = cursor.fetchall()\n",
    "for i in price:\n",
    "    ans.add(i)\n"
   ]
  },
  {
   "cell_type": "code",
   "execution_count": 5,
   "metadata": {},
   "outputs": [],
   "source": [
    "#Getting all the properties which matches the condition bedroom +/- 2 and adding to set\n",
    "\n",
    "if minbed and maxbed:\n",
    "    cursor.execute(\"select id,lat,lon,price,bed,bath from props where bed >= \"\n",
    "                   + minbed + \" and bed <= \" + maxbed + \";\")\n",
    "else:\n",
    "    if not minbed:\n",
    "        cursor.execute(\n",
    "            \"select id,lat,lon,price,bed,bath from props where bed >= \" +\n",
    "            str(int(maxbed) - 2) + \" and price <= \" + str(int(maxbed) + 2) +\n",
    "            \";\")\n",
    "    else:\n",
    "        cursor.execute(\n",
    "            \"select id,lat,lon,price,bed,bath from props where bed >= \" +\n",
    "            str(int(minbed) - 2) + \" and price <= \" + str(int(minbed) + 2) +\n",
    "            \";\")\n",
    "bed = cursor.fetchall()\n",
    "for i in bed:\n",
    "    ans.add(i)\n"
   ]
  },
  {
   "cell_type": "code",
   "execution_count": 6,
   "metadata": {},
   "outputs": [],
   "source": [
    "#Getting all the properties which matches the condition bathroom +/- 2 and adding to set\n",
    "\n",
    "if minbath and maxbath:\n",
    "    cursor.execute(\"select id,lat,lon,price,bed,bath from props where bed >= \"\n",
    "                   + minbath + \" and bed <= \" + maxbath + \";\")\n",
    "else:\n",
    "    if not minbed:\n",
    "        cursor.execute(\n",
    "            \"select id,lat,lon,price,bed,bath from props where bed >= \" +\n",
    "            str(int(maxbath) - 2) + \" and price <= \" + str(int(maxbath) + 2) +\n",
    "            \";\")\n",
    "    else:\n",
    "        cursor.execute(\n",
    "            \"select id,lat,lon,price,bed,bath from props where bed >= \" +\n",
    "            str(int(minbath) - 2) + \" and price <= \" + str(int(minbath) + 2) +\n",
    "            \";\")\n",
    "bath = cursor.fetchall()\n",
    "for i in bath:\n",
    "    ans.add(i)\n"
   ]
  },
  {
   "cell_type": "code",
   "execution_count": 7,
   "metadata": {},
   "outputs": [
    {
     "name": "stdout",
     "output_type": "stream",
     "text": [
      "(1, 54.0, 20.0, 1500, 2, 2, 0.0)\n",
      "(3, 54.0, 20.0, 1750, 10, 10, 0.0)\n"
     ]
    }
   ],
   "source": [
    "#Getting all the properties which matches the condition distance < 10 miles\n",
    "\n",
    "cursor.execute(\n",
    "    \"select id,lat,lon,price,bed,bath,(3956 *acos(cos(radians(\" + latitude +\n",
    "    \")) * cos(radians(lat)) * cos(radians(lon) - radians(\" + longitude +\n",
    "    \")) + sin(radians(\" + latitude +\n",
    "    \")) * sin(radians(lat )))) AS distance  from props having distance < 10\")\n",
    "distance = cursor.fetchall()\n",
    "for i in distance:\n",
    "    print(i)\n"
   ]
  },
  {
   "cell_type": "code",
   "execution_count": 8,
   "metadata": {},
   "outputs": [],
   "source": [
    "#match the output that matches the condition distance < 10 miles with properties persent at set.\n",
    "#final contains all the valid matches\n",
    "\n",
    "final = []\n",
    "for i in distance:\n",
    "    for j in ans:\n",
    "        if i[0] == j[0]:\n",
    "            final.append(i)"
   ]
  },
  {
   "cell_type": "code",
   "execution_count": 10,
   "metadata": {},
   "outputs": [
    {
     "name": "stdout",
     "output_type": "stream",
     "text": [
      "(1, 54.0, 20.0, 1500, 2, 2, 0.0) match percentage:  83.33333333333333\n",
      "(3, 54.0, 20.0, 1750, 10, 10, 0.0) match percentage:  96.66666666666667\n"
     ]
    }
   ],
   "source": [
    "#calculate percentage matches for all the properties in final.\n",
    "#Output must be properties with match percentage > 40\n",
    "\n",
    "for i in final:\n",
    "    per = 0\n",
    "    if int(i[6]) <= 2:\n",
    "        per += 30\n",
    "    else:\n",
    "        per += 30 - (int(i[6]) - 2) * (30 / 8)\n",
    "\n",
    "    if minprice and maxprice:\n",
    "        if int(i[3]) >= int(minprice) and int(i[3]) <= int(maxprice):\n",
    "            per += 30\n",
    "        else:\n",
    "            if int(i[3]) < int(minprice):\n",
    "                per += (int(i[3]) / int(minprice)) * 100 * 0.3\n",
    "            elif int(i[3]) > int(maxprice):\n",
    "                per += (int(maxprice) / int(i[3])) * 100 * 0.3\n",
    "    else:\n",
    "        if not minprice:\n",
    "            budget = int(maxprice) * 10 / 100\n",
    "            if int(i[3]) >= int(maxprice) - budget and int(\n",
    "                    i[3]) <= int(maxprice) + budget:\n",
    "                per += 30\n",
    "            else:\n",
    "                if int(i[3]) < int(maxprice) - budget:\n",
    "                    per += (int(i[3]) / int(maxprice) - budget) * 100 * 0.3\n",
    "                elif int(i[3]) > int(maxprice) + budget:\n",
    "                    per += (int(maxprice) + budget / int(i[3])) * 100 * 0.3\n",
    "        else:\n",
    "            budget = int(minprice) * 10 / 100\n",
    "            if int(i[3]) >= int(minprice) - budget and int(\n",
    "                    i[3]) <= int(minprice) + budget:\n",
    "                per += 30\n",
    "            else:\n",
    "                if int(i[3]) < int(minprice) - budget:\n",
    "                    per += (int(i[3]) / int(minprice) + budget) * 100 * 0.3\n",
    "                elif int(i[3]) > int(minprice) + budget:\n",
    "                    per += (int(minprice) + budget / int(i[3])) * 100 * 0.3\n",
    "\n",
    "    if minbed and maxbed:\n",
    "        if int(i[4]) >= int(minbed) and int(i[4]) <= int(maxbed):\n",
    "            per += 20\n",
    "        else:\n",
    "            if int(i[4]) < int(minbed):\n",
    "                per += (int(i[4]) / int(minbed)) * 100 * 0.2\n",
    "            elif int(i[4]) > int(maxbed):\n",
    "                per += (int(maxbed) / int(i[4])) * 100 * 0.2\n",
    "    else:\n",
    "        if not minbed:\n",
    "            if int(i[4]) < int(maxbed):\n",
    "                per += (int(i[4]) / int(maxbed)) * 100 * 0.2\n",
    "            elif int(i[4]) > int(maxbed):\n",
    "                per += (int(maxbed) / int(i[4])) * 100 * 0.2\n",
    "        else:\n",
    "            if int(i[4]) < int(minbed):\n",
    "                per += (int(i[4]) / int(minbed)) * 100 * 0.2\n",
    "            elif int(i[4]) > int(minbed):\n",
    "                per += (int(minbed) / int(i[4])) * 100 * 0.2\n",
    "    if minbath and maxbath:\n",
    "        if int(i[5]) >= int(minbath) and int(i[5]) <= int(maxbath):\n",
    "            per += 20\n",
    "        else:\n",
    "            if int(i[5]) < int(minbath):\n",
    "                per += (int(i[5]) / int(minbath)) * 100 * 0.2\n",
    "            elif int(i[5]) > int(maxbath):\n",
    "                per += (int(maxbath) / int(i[5])) * 100 * 0.2\n",
    "    else:\n",
    "        if not minbath:\n",
    "            if int(i[5]) < int(maxbath):\n",
    "                per += (int(i[5]) / int(maxbath)) * 100 * 0.2\n",
    "            elif int(i[5]) > int(maxbath):\n",
    "                per += (int(maxbath) / int(i[5])) * 100 * 0.2\n",
    "        else:\n",
    "            if int(i[5]) < int(minbath):\n",
    "                per += (int(i[5]) / int(minbath)) * 100 * 0.2\n",
    "            elif int(i[5]) > int(minbath):\n",
    "                per += (int(minbath) / int(i[5])) * 100 * 0.2\n",
    "    if per > 40:\n",
    "        print(i, end=\" \")\n",
    "        print(\"match percentage: \", per)\n"
   ]
  },
  {
   "cell_type": "code",
   "execution_count": null,
   "metadata": {},
   "outputs": [],
   "source": []
  }
 ],
 "metadata": {
  "kernelspec": {
   "display_name": "Python 3",
   "language": "python",
   "name": "python3"
  },
  "language_info": {
   "codemirror_mode": {
    "name": "ipython",
    "version": 3
   },
   "file_extension": ".py",
   "mimetype": "text/x-python",
   "name": "python",
   "nbconvert_exporter": "python",
   "pygments_lexer": "ipython3",
   "version": "3.8.2"
  }
 },
 "nbformat": 4,
 "nbformat_minor": 4
}
